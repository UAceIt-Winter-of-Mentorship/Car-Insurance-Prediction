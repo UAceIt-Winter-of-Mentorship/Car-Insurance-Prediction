{
 "cells": [
  {
   "cell_type": "code",
   "execution_count": 1,
   "id": "02587e04-e67f-445a-8421-bc7269d75d51",
   "metadata": {},
   "outputs": [],
   "source": [
    "import pandas as pd\n",
    "import numpy as np\n",
    "import matplotlib.pyplot as plt\n",
    "import seaborn as sns"
   ]
  },
  {
   "cell_type": "code",
   "execution_count": 2,
   "id": "31545155-1110-4c92-b81b-cdfaaa0a78a3",
   "metadata": {},
   "outputs": [],
   "source": [
    "df = pd.read_csv(\"Train_data.csv\")\n",
    "test = pd.read_csv(\"Test_data.csv\")"
   ]
  },
  {
   "cell_type": "code",
   "execution_count": 3,
   "id": "e47b5b6c-56e7-42d5-8d8f-cc9efaefec0f",
   "metadata": {},
   "outputs": [
    {
     "name": "stdout",
     "output_type": "stream",
     "text": [
      "<class 'pandas.core.frame.DataFrame'>\n",
      "RangeIndex: 3102 entries, 0 to 3101\n",
      "Data columns (total 18 columns):\n",
      " #   Column               Non-Null Count  Dtype  \n",
      "---  ------               --------------  -----  \n",
      " 0   age                  3102 non-null   float64\n",
      " 1   job_type             3091 non-null   object \n",
      " 2   marital_status       3102 non-null   object \n",
      " 3   education_level      2989 non-null   object \n",
      " 4   default_or_not       3102 non-null   int64  \n",
      " 5   balance_amt          3102 non-null   float64\n",
      " 6   household_insurance  3102 non-null   int64  \n",
      " 7   car_loan             3102 non-null   int64  \n",
      " 8   communication        2559 non-null   object \n",
      " 9   last_contact_day     3102 non-null   int64  \n",
      " 10  last_contact_month   3102 non-null   object \n",
      " 11  no_of_contacts       3102 non-null   int64  \n",
      " 12  days_passed          3102 non-null   int64  \n",
      " 13  prev_attempts        3102 non-null   int64  \n",
      " 14  Outcome              751 non-null    object \n",
      " 15  call_start           3102 non-null   object \n",
      " 16  call_end             3102 non-null   object \n",
      " 17  car_insurance        3102 non-null   int64  \n",
      "dtypes: float64(2), int64(8), object(8)\n",
      "memory usage: 436.3+ KB\n"
     ]
    }
   ],
   "source": [
    "df.info()"
   ]
  },
  {
   "cell_type": "code",
   "execution_count": 4,
   "id": "3a0cca94-864e-4b9d-b845-1ccc3b102055",
   "metadata": {},
   "outputs": [
    {
     "data": {
      "text/plain": [
       "age                       0\n",
       "job_type                 11\n",
       "marital_status            0\n",
       "education_level         113\n",
       "default_or_not            0\n",
       "balance_amt               0\n",
       "household_insurance       0\n",
       "car_loan                  0\n",
       "communication           543\n",
       "last_contact_day          0\n",
       "last_contact_month        0\n",
       "no_of_contacts            0\n",
       "days_passed               0\n",
       "prev_attempts             0\n",
       "Outcome                2351\n",
       "call_start                0\n",
       "call_end                  0\n",
       "car_insurance             0\n",
       "dtype: int64"
      ]
     },
     "execution_count": 4,
     "metadata": {},
     "output_type": "execute_result"
    }
   ],
   "source": [
    "df.isnull().sum()"
   ]
  },
  {
   "cell_type": "markdown",
   "id": "10b0b775-0b5d-4e05-90ad-3d5ed064bbaa",
   "metadata": {},
   "source": [
    "More than 75% of values for \"Outcome\" are missing, therefore dropping it"
   ]
  },
  {
   "cell_type": "code",
   "execution_count": 5,
   "id": "b9a034bb-cd10-49b5-9a4b-498c5e5f3394",
   "metadata": {},
   "outputs": [],
   "source": [
    "df = df.drop(columns=[\"Outcome\"])\n",
    "test = test.drop(columns=[\"Outcome\"])"
   ]
  },
  {
   "cell_type": "code",
   "execution_count": 6,
   "id": "f6a7ac28-6c3e-4130-8ca9-255c029bdf9b",
   "metadata": {},
   "outputs": [],
   "source": [
    "df.job_type = df.job_type.fillna(\"NaN\")\n",
    "test.job_type = test.job_type.fillna(\"NaN\")"
   ]
  },
  {
   "cell_type": "code",
   "execution_count": 7,
   "id": "19bc79e3-9d4d-4075-9873-89eb3dfe9b4a",
   "metadata": {},
   "outputs": [
    {
     "data": {
      "text/html": [
       "<div>\n",
       "<style scoped>\n",
       "    .dataframe tbody tr th:only-of-type {\n",
       "        vertical-align: middle;\n",
       "    }\n",
       "\n",
       "    .dataframe tbody tr th {\n",
       "        vertical-align: top;\n",
       "    }\n",
       "\n",
       "    .dataframe thead th {\n",
       "        text-align: right;\n",
       "    }\n",
       "</style>\n",
       "<table border=\"1\" class=\"dataframe\">\n",
       "  <thead>\n",
       "    <tr style=\"text-align: right;\">\n",
       "      <th></th>\n",
       "      <th>age</th>\n",
       "      <th>job_type</th>\n",
       "      <th>marital_status</th>\n",
       "      <th>education_level</th>\n",
       "      <th>default_or_not</th>\n",
       "      <th>balance_amt</th>\n",
       "      <th>household_insurance</th>\n",
       "      <th>car_loan</th>\n",
       "      <th>communication</th>\n",
       "      <th>last_contact_day</th>\n",
       "      <th>last_contact_month</th>\n",
       "      <th>no_of_contacts</th>\n",
       "      <th>days_passed</th>\n",
       "      <th>prev_attempts</th>\n",
       "      <th>call_start</th>\n",
       "      <th>call_end</th>\n",
       "      <th>car_insurance</th>\n",
       "    </tr>\n",
       "  </thead>\n",
       "  <tbody>\n",
       "    <tr>\n",
       "      <th>0</th>\n",
       "      <td>47.000000</td>\n",
       "      <td>blue-collar</td>\n",
       "      <td>married</td>\n",
       "      <td>primary</td>\n",
       "      <td>0</td>\n",
       "      <td>1112.000000</td>\n",
       "      <td>1</td>\n",
       "      <td>0</td>\n",
       "      <td>cellular</td>\n",
       "      <td>13</td>\n",
       "      <td>may</td>\n",
       "      <td>1</td>\n",
       "      <td>-1</td>\n",
       "      <td>0</td>\n",
       "      <td>10:22:20</td>\n",
       "      <td>10:24:29</td>\n",
       "      <td>0</td>\n",
       "    </tr>\n",
       "    <tr>\n",
       "      <th>1</th>\n",
       "      <td>46.031442</td>\n",
       "      <td>management</td>\n",
       "      <td>married</td>\n",
       "      <td>tertiary</td>\n",
       "      <td>0</td>\n",
       "      <td>1.312372</td>\n",
       "      <td>0</td>\n",
       "      <td>1</td>\n",
       "      <td>cellular</td>\n",
       "      <td>15</td>\n",
       "      <td>may</td>\n",
       "      <td>3</td>\n",
       "      <td>219</td>\n",
       "      <td>1</td>\n",
       "      <td>09:06:30</td>\n",
       "      <td>13:59:48</td>\n",
       "      <td>1</td>\n",
       "    </tr>\n",
       "    <tr>\n",
       "      <th>2</th>\n",
       "      <td>36.000000</td>\n",
       "      <td>services</td>\n",
       "      <td>single</td>\n",
       "      <td>NaN</td>\n",
       "      <td>0</td>\n",
       "      <td>281.000000</td>\n",
       "      <td>1</td>\n",
       "      <td>0</td>\n",
       "      <td>NaN</td>\n",
       "      <td>16</td>\n",
       "      <td>may</td>\n",
       "      <td>1</td>\n",
       "      <td>-1</td>\n",
       "      <td>0</td>\n",
       "      <td>13:18:41</td>\n",
       "      <td>13:27:16</td>\n",
       "      <td>1</td>\n",
       "    </tr>\n",
       "    <tr>\n",
       "      <th>3</th>\n",
       "      <td>32.000000</td>\n",
       "      <td>technician</td>\n",
       "      <td>single</td>\n",
       "      <td>secondary</td>\n",
       "      <td>0</td>\n",
       "      <td>540.000000</td>\n",
       "      <td>0</td>\n",
       "      <td>1</td>\n",
       "      <td>cellular</td>\n",
       "      <td>29</td>\n",
       "      <td>jan</td>\n",
       "      <td>1</td>\n",
       "      <td>-1</td>\n",
       "      <td>0</td>\n",
       "      <td>10:09:18</td>\n",
       "      <td>10:21:48</td>\n",
       "      <td>1</td>\n",
       "    </tr>\n",
       "    <tr>\n",
       "      <th>4</th>\n",
       "      <td>30.000000</td>\n",
       "      <td>admin.</td>\n",
       "      <td>single</td>\n",
       "      <td>secondary</td>\n",
       "      <td>0</td>\n",
       "      <td>315.000000</td>\n",
       "      <td>1</td>\n",
       "      <td>0</td>\n",
       "      <td>cellular</td>\n",
       "      <td>14</td>\n",
       "      <td>may</td>\n",
       "      <td>3</td>\n",
       "      <td>346</td>\n",
       "      <td>4</td>\n",
       "      <td>12:12:30</td>\n",
       "      <td>12:27:14</td>\n",
       "      <td>1</td>\n",
       "    </tr>\n",
       "  </tbody>\n",
       "</table>\n",
       "</div>"
      ],
      "text/plain": [
       "         age     job_type marital_status education_level  default_or_not  \\\n",
       "0  47.000000  blue-collar        married         primary               0   \n",
       "1  46.031442   management        married        tertiary               0   \n",
       "2  36.000000     services         single             NaN               0   \n",
       "3  32.000000   technician         single       secondary               0   \n",
       "4  30.000000       admin.         single       secondary               0   \n",
       "\n",
       "   balance_amt  household_insurance  car_loan communication  last_contact_day  \\\n",
       "0  1112.000000                    1         0      cellular                13   \n",
       "1     1.312372                    0         1      cellular                15   \n",
       "2   281.000000                    1         0           NaN                16   \n",
       "3   540.000000                    0         1      cellular                29   \n",
       "4   315.000000                    1         0      cellular                14   \n",
       "\n",
       "  last_contact_month  no_of_contacts  days_passed  prev_attempts call_start  \\\n",
       "0                may               1           -1              0   10:22:20   \n",
       "1                may               3          219              1   09:06:30   \n",
       "2                may               1           -1              0   13:18:41   \n",
       "3                jan               1           -1              0   10:09:18   \n",
       "4                may               3          346              4   12:12:30   \n",
       "\n",
       "   call_end  car_insurance  \n",
       "0  10:24:29              0  \n",
       "1  13:59:48              1  \n",
       "2  13:27:16              1  \n",
       "3  10:21:48              1  \n",
       "4  12:27:14              1  "
      ]
     },
     "execution_count": 7,
     "metadata": {},
     "output_type": "execute_result"
    }
   ],
   "source": [
    "df.head()"
   ]
  },
  {
   "cell_type": "code",
   "execution_count": 8,
   "id": "53181ba8-7d44-4cee-b449-6d6289181fa9",
   "metadata": {},
   "outputs": [],
   "source": [
    "df = df.sort_values(by=\"age\")"
   ]
  },
  {
   "cell_type": "code",
   "execution_count": 9,
   "id": "4daf3bd3-e20f-4e3a-ae58-a5c177acf8ac",
   "metadata": {},
   "outputs": [
    {
     "data": {
      "text/html": [
       "<div>\n",
       "<style scoped>\n",
       "    .dataframe tbody tr th:only-of-type {\n",
       "        vertical-align: middle;\n",
       "    }\n",
       "\n",
       "    .dataframe tbody tr th {\n",
       "        vertical-align: top;\n",
       "    }\n",
       "\n",
       "    .dataframe thead th {\n",
       "        text-align: right;\n",
       "    }\n",
       "</style>\n",
       "<table border=\"1\" class=\"dataframe\">\n",
       "  <thead>\n",
       "    <tr style=\"text-align: right;\">\n",
       "      <th></th>\n",
       "      <th>age</th>\n",
       "      <th>job_type</th>\n",
       "      <th>marital_status</th>\n",
       "      <th>education_level</th>\n",
       "      <th>default_or_not</th>\n",
       "      <th>balance_amt</th>\n",
       "      <th>household_insurance</th>\n",
       "      <th>car_loan</th>\n",
       "      <th>communication</th>\n",
       "      <th>last_contact_day</th>\n",
       "      <th>last_contact_month</th>\n",
       "      <th>no_of_contacts</th>\n",
       "      <th>days_passed</th>\n",
       "      <th>prev_attempts</th>\n",
       "      <th>call_start</th>\n",
       "      <th>call_end</th>\n",
       "      <th>car_insurance</th>\n",
       "    </tr>\n",
       "  </thead>\n",
       "  <tbody>\n",
       "    <tr>\n",
       "      <th>2166</th>\n",
       "      <td>18.0</td>\n",
       "      <td>student</td>\n",
       "      <td>single</td>\n",
       "      <td>primary</td>\n",
       "      <td>0</td>\n",
       "      <td>608.0</td>\n",
       "      <td>0</td>\n",
       "      <td>0</td>\n",
       "      <td>cellular</td>\n",
       "      <td>12</td>\n",
       "      <td>aug</td>\n",
       "      <td>1</td>\n",
       "      <td>-1</td>\n",
       "      <td>0</td>\n",
       "      <td>13:30:30</td>\n",
       "      <td>13:34:57</td>\n",
       "      <td>1</td>\n",
       "    </tr>\n",
       "    <tr>\n",
       "      <th>140</th>\n",
       "      <td>18.0</td>\n",
       "      <td>student</td>\n",
       "      <td>single</td>\n",
       "      <td>NaN</td>\n",
       "      <td>0</td>\n",
       "      <td>108.0</td>\n",
       "      <td>0</td>\n",
       "      <td>0</td>\n",
       "      <td>cellular</td>\n",
       "      <td>8</td>\n",
       "      <td>sep</td>\n",
       "      <td>1</td>\n",
       "      <td>-1</td>\n",
       "      <td>0</td>\n",
       "      <td>11:48:16</td>\n",
       "      <td>11:51:05</td>\n",
       "      <td>1</td>\n",
       "    </tr>\n",
       "    <tr>\n",
       "      <th>2903</th>\n",
       "      <td>18.0</td>\n",
       "      <td>student</td>\n",
       "      <td>single</td>\n",
       "      <td>primary</td>\n",
       "      <td>0</td>\n",
       "      <td>608.0</td>\n",
       "      <td>0</td>\n",
       "      <td>0</td>\n",
       "      <td>cellular</td>\n",
       "      <td>12</td>\n",
       "      <td>aug</td>\n",
       "      <td>1</td>\n",
       "      <td>-1</td>\n",
       "      <td>0</td>\n",
       "      <td>13:30:30</td>\n",
       "      <td>13:34:57</td>\n",
       "      <td>1</td>\n",
       "    </tr>\n",
       "    <tr>\n",
       "      <th>1134</th>\n",
       "      <td>18.0</td>\n",
       "      <td>student</td>\n",
       "      <td>single</td>\n",
       "      <td>primary</td>\n",
       "      <td>0</td>\n",
       "      <td>608.0</td>\n",
       "      <td>0</td>\n",
       "      <td>0</td>\n",
       "      <td>cellular</td>\n",
       "      <td>13</td>\n",
       "      <td>nov</td>\n",
       "      <td>1</td>\n",
       "      <td>93</td>\n",
       "      <td>1</td>\n",
       "      <td>09:54:30</td>\n",
       "      <td>09:58:00</td>\n",
       "      <td>1</td>\n",
       "    </tr>\n",
       "    <tr>\n",
       "      <th>760</th>\n",
       "      <td>19.0</td>\n",
       "      <td>student</td>\n",
       "      <td>single</td>\n",
       "      <td>secondary</td>\n",
       "      <td>0</td>\n",
       "      <td>329.0</td>\n",
       "      <td>0</td>\n",
       "      <td>0</td>\n",
       "      <td>cellular</td>\n",
       "      <td>22</td>\n",
       "      <td>oct</td>\n",
       "      <td>2</td>\n",
       "      <td>-1</td>\n",
       "      <td>0</td>\n",
       "      <td>14:10:47</td>\n",
       "      <td>14:14:59</td>\n",
       "      <td>1</td>\n",
       "    </tr>\n",
       "  </tbody>\n",
       "</table>\n",
       "</div>"
      ],
      "text/plain": [
       "       age job_type marital_status education_level  default_or_not  \\\n",
       "2166  18.0  student         single         primary               0   \n",
       "140   18.0  student         single             NaN               0   \n",
       "2903  18.0  student         single         primary               0   \n",
       "1134  18.0  student         single         primary               0   \n",
       "760   19.0  student         single       secondary               0   \n",
       "\n",
       "      balance_amt  household_insurance  car_loan communication  \\\n",
       "2166        608.0                    0         0      cellular   \n",
       "140         108.0                    0         0      cellular   \n",
       "2903        608.0                    0         0      cellular   \n",
       "1134        608.0                    0         0      cellular   \n",
       "760         329.0                    0         0      cellular   \n",
       "\n",
       "      last_contact_day last_contact_month  no_of_contacts  days_passed  \\\n",
       "2166                12                aug               1           -1   \n",
       "140                  8                sep               1           -1   \n",
       "2903                12                aug               1           -1   \n",
       "1134                13                nov               1           93   \n",
       "760                 22                oct               2           -1   \n",
       "\n",
       "      prev_attempts call_start  call_end  car_insurance  \n",
       "2166              0   13:30:30  13:34:57              1  \n",
       "140               0   11:48:16  11:51:05              1  \n",
       "2903              0   13:30:30  13:34:57              1  \n",
       "1134              1   09:54:30  09:58:00              1  \n",
       "760               0   14:10:47  14:14:59              1  "
      ]
     },
     "execution_count": 9,
     "metadata": {},
     "output_type": "execute_result"
    }
   ],
   "source": [
    "df.head()"
   ]
  },
  {
   "cell_type": "code",
   "execution_count": 10,
   "id": "5b95aa6c-a780-4db5-8ca4-98631de14d8c",
   "metadata": {},
   "outputs": [
    {
     "data": {
      "text/plain": [
       "[<matplotlib.lines.Line2D at 0x2089a607640>]"
      ]
     },
     "execution_count": 10,
     "metadata": {},
     "output_type": "execute_result"
    },
    {
     "data": {
      "image/png": "[encoded data removed]",
      "text/plain": [
       "<Figure size 1152x288 with 1 Axes>"
      ]
     },
     "metadata": {
      "needs_background": "light"
     },
     "output_type": "display_data"
    }
   ],
   "source": [
    "plt.figure(figsize=(16,4))\n",
    "plt.plot(df.age, df.balance_amt)"
   ]
  },
  {
   "cell_type": "markdown",
   "id": "7e10f8ee-e53a-4d47-a006-7bd77df723e3",
   "metadata": {},
   "source": [
    "Not a clear correlation between age and balance_amt"
   ]
  },
  {
   "cell_type": "code",
   "execution_count": 11,
   "id": "b2d7d02a-14fe-4951-8260-089984b63599",
   "metadata": {},
   "outputs": [
    {
     "data": {
      "text/plain": [
       "array(['NaN', 'admin.', 'blue-collar', 'entrepreneur', 'housemaid',\n",
       "       'management', 'retired', 'self-employed', 'services', 'student',\n",
       "       'technician', 'unemployed'], dtype=object)"
      ]
     },
     "execution_count": 11,
     "metadata": {},
     "output_type": "execute_result"
    }
   ],
   "source": [
    "np.unique(df.job_type)"
   ]
  },
  {
   "cell_type": "code",
   "execution_count": 12,
   "id": "43ccea14-3387-4fab-8035-bb0de84eaeff",
   "metadata": {},
   "outputs": [
    {
     "data": {
      "text/plain": [
       "<AxesSubplot:xlabel='job_type', ylabel='count'>"
      ]
     },
     "execution_count": 12,
     "metadata": {},
     "output_type": "execute_result"
    },
    {
     "data": {
      "image/png": "[encoded data removed]",
      "text/plain": [
       "<Figure size 1152x288 with 1 Axes>"
      ]
     },
     "metadata": {
      "needs_background": "light"
     },
     "output_type": "display_data"
    }
   ],
   "source": [
    "plt.figure(figsize=(16, 4))\n",
    "sns.countplot(data=df, x=\"job_type\", hue=\"car_insurance\")"
   ]
  },
  {
   "cell_type": "code",
   "execution_count": 13,
   "id": "1a568d75-a937-4ebc-be3f-4e9acde92cd0",
   "metadata": {},
   "outputs": [
    {
     "data": {
      "text/plain": [
       "array(['divorced', 'married', 'single'], dtype=object)"
      ]
     },
     "execution_count": 13,
     "metadata": {},
     "output_type": "execute_result"
    }
   ],
   "source": [
    "np.unique(df.marital_status)"
   ]
  },
  {
   "cell_type": "code",
   "execution_count": 14,
   "id": "490e0722-b008-4a8d-a870-1ecd98c98e47",
   "metadata": {},
   "outputs": [
    {
     "data": {
      "text/plain": [
       "<AxesSubplot:xlabel='marital_status', ylabel='count'>"
      ]
     },
     "execution_count": 14,
     "metadata": {},
     "output_type": "execute_result"
    },
    {
     "data": {
      "image/png": "[encoded data removed]",
      "text/plain": [
       "<Figure size 432x288 with 1 Axes>"
      ]
     },
     "metadata": {
      "needs_background": "light"
     },
     "output_type": "display_data"
    }
   ],
   "source": [
    "sns.countplot(data=df, x=\"marital_status\", hue=\"car_insurance\")"
   ]
  },
  {
   "cell_type": "code",
   "execution_count": 15,
   "id": "41e0c8ea-dcf4-4b54-83bc-db1495141670",
   "metadata": {},
   "outputs": [
    {
     "data": {
      "text/plain": [
       "array(['NaN', 'primary', 'secondary', 'tertiary'], dtype=object)"
      ]
     },
     "execution_count": 15,
     "metadata": {},
     "output_type": "execute_result"
    }
   ],
   "source": [
    "df.education_level = df.education_level.fillna(\"NaN\")\n",
    "test.education_level = test.education_level.fillna(\"NaN\")\n",
    "np.unique(df.education_level)"
   ]
  },
  {
   "cell_type": "code",
   "execution_count": 16,
   "id": "5b348d42-49cd-43c7-ad8f-cd5026272734",
   "metadata": {},
   "outputs": [
    {
     "data": {
      "text/plain": [
       "<AxesSubplot:xlabel='education_level', ylabel='count'>"
      ]
     },
     "execution_count": 16,
     "metadata": {},
     "output_type": "execute_result"
    },
    {
     "data": {
      "image/png": "[encoded data removed]",
      "text/plain": [
       "<Figure size 432x288 with 1 Axes>"
      ]
     },
     "metadata": {
      "needs_background": "light"
     },
     "output_type": "display_data"
    }
   ],
   "source": [
    "sns.countplot(data=df, x=\"education_level\", hue=\"car_insurance\")"
   ]
  },
  {
   "cell_type": "markdown",
   "id": "a8d1aba3-2b94-4013-b079-e1d492992e67",
   "metadata": {},
   "source": [
    "Could easily be treated as ordinal data"
   ]
  },
  {
   "cell_type": "code",
   "execution_count": 17,
   "id": "20f3f0a1-0143-4567-b10c-6e9c2bd94371",
   "metadata": {},
   "outputs": [
    {
     "data": {
      "text/plain": [
       "array([0, 1], dtype=int64)"
      ]
     },
     "execution_count": 17,
     "metadata": {},
     "output_type": "execute_result"
    }
   ],
   "source": [
    "np.unique(df.default_or_not)"
   ]
  },
  {
   "cell_type": "code",
   "execution_count": 18,
   "id": "fc05b4c4-18a2-469b-ab43-451e7565fade",
   "metadata": {},
   "outputs": [
    {
     "data": {
      "text/plain": [
       "<AxesSubplot:xlabel='default_or_not', ylabel='count'>"
      ]
     },
     "execution_count": 18,
     "metadata": {},
     "output_type": "execute_result"
    },
    {
     "data": {
      "image/png": "[encoded data removed]",
      "text/plain": [
       "<Figure size 432x288 with 1 Axes>"
      ]
     },
     "metadata": {
      "needs_background": "light"
     },
     "output_type": "display_data"
    }
   ],
   "source": [
    "sns.countplot(data=df, x=\"default_or_not\", hue=\"car_insurance\")"
   ]
  },
  {
   "cell_type": "markdown",
   "id": "59035d92-0ab5-4311-a5d2-a8a40d4fe8cb",
   "metadata": {},
   "source": [
    "Could be dropped, no significant information gain"
   ]
  },
  {
   "cell_type": "code",
   "execution_count": 19,
   "id": "431aa562-7c65-4a78-a7a9-e3d60b50d9e6",
   "metadata": {},
   "outputs": [
    {
     "data": {
      "text/html": [
       "<div>\n",
       "<style scoped>\n",
       "    .dataframe tbody tr th:only-of-type {\n",
       "        vertical-align: middle;\n",
       "    }\n",
       "\n",
       "    .dataframe tbody tr th {\n",
       "        vertical-align: top;\n",
       "    }\n",
       "\n",
       "    .dataframe thead th {\n",
       "        text-align: right;\n",
       "    }\n",
       "</style>\n",
       "<table border=\"1\" class=\"dataframe\">\n",
       "  <thead>\n",
       "    <tr style=\"text-align: right;\">\n",
       "      <th></th>\n",
       "      <th>age</th>\n",
       "      <th>job_type</th>\n",
       "      <th>marital_status</th>\n",
       "      <th>education_level</th>\n",
       "      <th>default_or_not</th>\n",
       "      <th>balance_amt</th>\n",
       "      <th>household_insurance</th>\n",
       "      <th>car_loan</th>\n",
       "      <th>communication</th>\n",
       "      <th>last_contact_day</th>\n",
       "      <th>last_contact_month</th>\n",
       "      <th>no_of_contacts</th>\n",
       "      <th>days_passed</th>\n",
       "      <th>prev_attempts</th>\n",
       "      <th>call_start</th>\n",
       "      <th>call_end</th>\n",
       "      <th>car_insurance</th>\n",
       "    </tr>\n",
       "  </thead>\n",
       "  <tbody>\n",
       "    <tr>\n",
       "      <th>2166</th>\n",
       "      <td>18.0</td>\n",
       "      <td>student</td>\n",
       "      <td>single</td>\n",
       "      <td>primary</td>\n",
       "      <td>0</td>\n",
       "      <td>608.0</td>\n",
       "      <td>0</td>\n",
       "      <td>0</td>\n",
       "      <td>cellular</td>\n",
       "      <td>12</td>\n",
       "      <td>aug</td>\n",
       "      <td>1</td>\n",
       "      <td>-1</td>\n",
       "      <td>0</td>\n",
       "      <td>13:30:30</td>\n",
       "      <td>13:34:57</td>\n",
       "      <td>1</td>\n",
       "    </tr>\n",
       "    <tr>\n",
       "      <th>140</th>\n",
       "      <td>18.0</td>\n",
       "      <td>student</td>\n",
       "      <td>single</td>\n",
       "      <td>NaN</td>\n",
       "      <td>0</td>\n",
       "      <td>108.0</td>\n",
       "      <td>0</td>\n",
       "      <td>0</td>\n",
       "      <td>cellular</td>\n",
       "      <td>8</td>\n",
       "      <td>sep</td>\n",
       "      <td>1</td>\n",
       "      <td>-1</td>\n",
       "      <td>0</td>\n",
       "      <td>11:48:16</td>\n",
       "      <td>11:51:05</td>\n",
       "      <td>1</td>\n",
       "    </tr>\n",
       "    <tr>\n",
       "      <th>2903</th>\n",
       "      <td>18.0</td>\n",
       "      <td>student</td>\n",
       "      <td>single</td>\n",
       "      <td>primary</td>\n",
       "      <td>0</td>\n",
       "      <td>608.0</td>\n",
       "      <td>0</td>\n",
       "      <td>0</td>\n",
       "      <td>cellular</td>\n",
       "      <td>12</td>\n",
       "      <td>aug</td>\n",
       "      <td>1</td>\n",
       "      <td>-1</td>\n",
       "      <td>0</td>\n",
       "      <td>13:30:30</td>\n",
       "      <td>13:34:57</td>\n",
       "      <td>1</td>\n",
       "    </tr>\n",
       "    <tr>\n",
       "      <th>1134</th>\n",
       "      <td>18.0</td>\n",
       "      <td>student</td>\n",
       "      <td>single</td>\n",
       "      <td>primary</td>\n",
       "      <td>0</td>\n",
       "      <td>608.0</td>\n",
       "      <td>0</td>\n",
       "      <td>0</td>\n",
       "      <td>cellular</td>\n",
       "      <td>13</td>\n",
       "      <td>nov</td>\n",
       "      <td>1</td>\n",
       "      <td>93</td>\n",
       "      <td>1</td>\n",
       "      <td>09:54:30</td>\n",
       "      <td>09:58:00</td>\n",
       "      <td>1</td>\n",
       "    </tr>\n",
       "    <tr>\n",
       "      <th>760</th>\n",
       "      <td>19.0</td>\n",
       "      <td>student</td>\n",
       "      <td>single</td>\n",
       "      <td>secondary</td>\n",
       "      <td>0</td>\n",
       "      <td>329.0</td>\n",
       "      <td>0</td>\n",
       "      <td>0</td>\n",
       "      <td>cellular</td>\n",
       "      <td>22</td>\n",
       "      <td>oct</td>\n",
       "      <td>2</td>\n",
       "      <td>-1</td>\n",
       "      <td>0</td>\n",
       "      <td>14:10:47</td>\n",
       "      <td>14:14:59</td>\n",
       "      <td>1</td>\n",
       "    </tr>\n",
       "  </tbody>\n",
       "</table>\n",
       "</div>"
      ],
      "text/plain": [
       "       age job_type marital_status education_level  default_or_not  \\\n",
       "2166  18.0  student         single         primary               0   \n",
       "140   18.0  student         single             NaN               0   \n",
       "2903  18.0  student         single         primary               0   \n",
       "1134  18.0  student         single         primary               0   \n",
       "760   19.0  student         single       secondary               0   \n",
       "\n",
       "      balance_amt  household_insurance  car_loan communication  \\\n",
       "2166        608.0                    0         0      cellular   \n",
       "140         108.0                    0         0      cellular   \n",
       "2903        608.0                    0         0      cellular   \n",
       "1134        608.0                    0         0      cellular   \n",
       "760         329.0                    0         0      cellular   \n",
       "\n",
       "      last_contact_day last_contact_month  no_of_contacts  days_passed  \\\n",
       "2166                12                aug               1           -1   \n",
       "140                  8                sep               1           -1   \n",
       "2903                12                aug               1           -1   \n",
       "1134                13                nov               1           93   \n",
       "760                 22                oct               2           -1   \n",
       "\n",
       "      prev_attempts call_start  call_end  car_insurance  \n",
       "2166              0   13:30:30  13:34:57              1  \n",
       "140               0   11:48:16  11:51:05              1  \n",
       "2903              0   13:30:30  13:34:57              1  \n",
       "1134              1   09:54:30  09:58:00              1  \n",
       "760               0   14:10:47  14:14:59              1  "
      ]
     },
     "execution_count": 19,
     "metadata": {},
     "output_type": "execute_result"
    }
   ],
   "source": [
    "df.head()"
   ]
  },
  {
   "cell_type": "code",
   "execution_count": 20,
   "id": "d1445846-a759-4f1e-9a10-d61541f1353c",
   "metadata": {},
   "outputs": [
    {
     "data": {
      "text/plain": [
       "<AxesSubplot:xlabel='balance_amt', ylabel='Count'>"
      ]
     },
     "execution_count": 20,
     "metadata": {},
     "output_type": "execute_result"
    },
    {
     "data": {
      "image/png": "[encoded data removed]",
      "text/plain": [
       "<Figure size 432x288 with 1 Axes>"
      ]
     },
     "metadata": {
      "needs_background": "light"
     },
     "output_type": "display_data"
    }
   ],
   "source": [
    "sns.histplot(data=df, x=\"balance_amt\", bins=10)"
   ]
  },
  {
   "cell_type": "code",
   "execution_count": 21,
   "id": "cce35244-160b-4fef-9900-e8eebaf4fa80",
   "metadata": {},
   "outputs": [
    {
     "name": "stdout",
     "output_type": "stream",
     "text": [
      "52587.0 1543.0672396997843\n"
     ]
    }
   ],
   "source": [
    "print(np.max(df.balance_amt), np.average(df.balance_amt))"
   ]
  },
  {
   "cell_type": "code",
   "execution_count": 22,
   "id": "6c27ea34-30b6-4380-906b-b920fa0db42d",
   "metadata": {},
   "outputs": [
    {
     "data": {
      "text/plain": [
       "<AxesSubplot:xlabel='household_insurance', ylabel='count'>"
      ]
     },
     "execution_count": 22,
     "metadata": {},
     "output_type": "execute_result"
    },
    {
     "data": {
      "image/png": "[encoded data removed]",
      "text/plain": [
       "<Figure size 432x288 with 1 Axes>"
      ]
     },
     "metadata": {
      "needs_background": "light"
     },
     "output_type": "display_data"
    }
   ],
   "source": [
    "sns.countplot(data=df, x=\"household_insurance\", hue=\"car_insurance\")"
   ]
  },
  {
   "cell_type": "markdown",
   "id": "9c51a30b-b637-4bf3-b1e2-f492dc1d0b4c",
   "metadata": {},
   "source": [
    "People without household insurance are more likely to purchase car insurance"
   ]
  },
  {
   "cell_type": "code",
   "execution_count": 23,
   "id": "248aa157-5ade-476b-b6e5-6ac013403787",
   "metadata": {},
   "outputs": [
    {
     "data": {
      "text/plain": [
       "<AxesSubplot:xlabel='car_loan', ylabel='count'>"
      ]
     },
     "execution_count": 23,
     "metadata": {},
     "output_type": "execute_result"
    },
    {
     "data": {
      "image/png": "[encoded data removed]",
      "text/plain": [
       "<Figure size 432x288 with 1 Axes>"
      ]
     },
     "metadata": {
      "needs_background": "light"
     },
     "output_type": "display_data"
    }
   ],
   "source": [
    "sns.countplot(data=df, x=\"car_loan\", hue=\"car_insurance\")"
   ]
  },
  {
   "cell_type": "markdown",
   "id": "a2fab8e2-22d5-418a-b068-dc1d04de57da",
   "metadata": {},
   "source": [
    "People with car loan are more likely to purchase car insurance"
   ]
  },
  {
   "cell_type": "code",
   "execution_count": 24,
   "id": "5ddadab9-2903-4123-aa5d-26464df7775b",
   "metadata": {},
   "outputs": [
    {
     "data": {
      "text/plain": [
       "<AxesSubplot:xlabel='communication', ylabel='count'>"
      ]
     },
     "execution_count": 24,
     "metadata": {},
     "output_type": "execute_result"
    },
    {
     "data": {
      "image/png": "[encoded data removed]",
      "text/plain": [
       "<Figure size 432x288 with 1 Axes>"
      ]
     },
     "metadata": {
      "needs_background": "light"
     },
     "output_type": "display_data"
    }
   ],
   "source": [
    "sns.countplot(data=df, x=\"communication\", hue=\"car_insurance\")"
   ]
  },
  {
   "cell_type": "markdown",
   "id": "0390937e-0075-42ee-99c2-d7b196afd29e",
   "metadata": {},
   "source": [
    "Is this indicative of something?"
   ]
  },
  {
   "cell_type": "code",
   "execution_count": 25,
   "id": "e549ed7f-94b1-45b3-9a57-c3356bf5c968",
   "metadata": {},
   "outputs": [
    {
     "data": {
      "text/plain": [
       "<AxesSubplot:xlabel='last_contact_day', ylabel='Count'>"
      ]
     },
     "execution_count": 25,
     "metadata": {},
     "output_type": "execute_result"
    },
    {
     "data": {
      "image/png": "[encoded data removed]",
      "text/plain": [
       "<Figure size 432x288 with 1 Axes>"
      ]
     },
     "metadata": {
      "needs_background": "light"
     },
     "output_type": "display_data"
    }
   ],
   "source": [
    "sns.histplot(data=df, x=\"last_contact_day\", hue=\"car_insurance\")"
   ]
  },
  {
   "cell_type": "markdown",
   "id": "1180649f-19af-4b20-9421-8c9352cd833d",
   "metadata": {},
   "source": [
    "Insurance is more likely to be sold if contact was recent"
   ]
  },
  {
   "cell_type": "code",
   "execution_count": 26,
   "id": "f5fa3fbc-ac0f-475f-bdce-37233a12baad",
   "metadata": {},
   "outputs": [
    {
     "data": {
      "text/plain": [
       "dtype('O')"
      ]
     },
     "execution_count": 26,
     "metadata": {},
     "output_type": "execute_result"
    }
   ],
   "source": [
    "np.dtype(df.call_end)"
   ]
  },
  {
   "cell_type": "code",
   "execution_count": 27,
   "id": "a1d70783-17b3-4253-8c0f-9cc923228194",
   "metadata": {},
   "outputs": [],
   "source": [
    "df_st = pd.to_datetime(df.call_start.values, format=\"%H:%M:%S\")\n",
    "df_end = pd.to_datetime(df.call_end.values, format=\"%H:%M:%S\")\n",
    "\n",
    "test_st = pd.to_datetime(test.call_start.values, format=\"%H:%M:%S\")\n",
    "test_end = pd.to_datetime(test.call_end.values, format=\"%H:%M:%S\")"
   ]
  },
  {
   "cell_type": "code",
   "execution_count": 28,
   "id": "4b36147e-7b0d-45b5-8705-f70a2edc2929",
   "metadata": {},
   "outputs": [],
   "source": [
    "df[\"call_duration\"] = (df_end - df_st).seconds\n",
    "test[\"call_duration\"] = (test_end - test_st).seconds"
   ]
  },
  {
   "cell_type": "code",
   "execution_count": 29,
   "id": "06ec8ecd-c8a5-4ad4-a1bc-4ecf7a131d3a",
   "metadata": {},
   "outputs": [],
   "source": [
    "df = df.drop(columns=[\"call_start\", \"call_end\"])\n",
    "test = test.drop(columns=[\"call_start\", \"call_end\"])"
   ]
  },
  {
   "cell_type": "code",
   "execution_count": 30,
   "id": "9af5a8cb-92b9-4162-addb-e3bcb7274140",
   "metadata": {},
   "outputs": [
    {
     "data": {
      "text/html": [
       "<div>\n",
       "<style scoped>\n",
       "    .dataframe tbody tr th:only-of-type {\n",
       "        vertical-align: middle;\n",
       "    }\n",
       "\n",
       "    .dataframe tbody tr th {\n",
       "        vertical-align: top;\n",
       "    }\n",
       "\n",
       "    .dataframe thead th {\n",
       "        text-align: right;\n",
       "    }\n",
       "</style>\n",
       "<table border=\"1\" class=\"dataframe\">\n",
       "  <thead>\n",
       "    <tr style=\"text-align: right;\">\n",
       "      <th></th>\n",
       "      <th>age</th>\n",
       "      <th>job_type</th>\n",
       "      <th>marital_status</th>\n",
       "      <th>education_level</th>\n",
       "      <th>default_or_not</th>\n",
       "      <th>balance_amt</th>\n",
       "      <th>household_insurance</th>\n",
       "      <th>car_loan</th>\n",
       "      <th>communication</th>\n",
       "      <th>last_contact_day</th>\n",
       "      <th>last_contact_month</th>\n",
       "      <th>no_of_contacts</th>\n",
       "      <th>days_passed</th>\n",
       "      <th>prev_attempts</th>\n",
       "      <th>car_insurance</th>\n",
       "      <th>call_duration</th>\n",
       "    </tr>\n",
       "  </thead>\n",
       "  <tbody>\n",
       "    <tr>\n",
       "      <th>2166</th>\n",
       "      <td>18.0</td>\n",
       "      <td>student</td>\n",
       "      <td>single</td>\n",
       "      <td>primary</td>\n",
       "      <td>0</td>\n",
       "      <td>608.0</td>\n",
       "      <td>0</td>\n",
       "      <td>0</td>\n",
       "      <td>cellular</td>\n",
       "      <td>12</td>\n",
       "      <td>aug</td>\n",
       "      <td>1</td>\n",
       "      <td>-1</td>\n",
       "      <td>0</td>\n",
       "      <td>1</td>\n",
       "      <td>267</td>\n",
       "    </tr>\n",
       "    <tr>\n",
       "      <th>140</th>\n",
       "      <td>18.0</td>\n",
       "      <td>student</td>\n",
       "      <td>single</td>\n",
       "      <td>NaN</td>\n",
       "      <td>0</td>\n",
       "      <td>108.0</td>\n",
       "      <td>0</td>\n",
       "      <td>0</td>\n",
       "      <td>cellular</td>\n",
       "      <td>8</td>\n",
       "      <td>sep</td>\n",
       "      <td>1</td>\n",
       "      <td>-1</td>\n",
       "      <td>0</td>\n",
       "      <td>1</td>\n",
       "      <td>169</td>\n",
       "    </tr>\n",
       "    <tr>\n",
       "      <th>2903</th>\n",
       "      <td>18.0</td>\n",
       "      <td>student</td>\n",
       "      <td>single</td>\n",
       "      <td>primary</td>\n",
       "      <td>0</td>\n",
       "      <td>608.0</td>\n",
       "      <td>0</td>\n",
       "      <td>0</td>\n",
       "      <td>cellular</td>\n",
       "      <td>12</td>\n",
       "      <td>aug</td>\n",
       "      <td>1</td>\n",
       "      <td>-1</td>\n",
       "      <td>0</td>\n",
       "      <td>1</td>\n",
       "      <td>267</td>\n",
       "    </tr>\n",
       "    <tr>\n",
       "      <th>1134</th>\n",
       "      <td>18.0</td>\n",
       "      <td>student</td>\n",
       "      <td>single</td>\n",
       "      <td>primary</td>\n",
       "      <td>0</td>\n",
       "      <td>608.0</td>\n",
       "      <td>0</td>\n",
       "      <td>0</td>\n",
       "      <td>cellular</td>\n",
       "      <td>13</td>\n",
       "      <td>nov</td>\n",
       "      <td>1</td>\n",
       "      <td>93</td>\n",
       "      <td>1</td>\n",
       "      <td>1</td>\n",
       "      <td>210</td>\n",
       "    </tr>\n",
       "    <tr>\n",
       "      <th>760</th>\n",
       "      <td>19.0</td>\n",
       "      <td>student</td>\n",
       "      <td>single</td>\n",
       "      <td>secondary</td>\n",
       "      <td>0</td>\n",
       "      <td>329.0</td>\n",
       "      <td>0</td>\n",
       "      <td>0</td>\n",
       "      <td>cellular</td>\n",
       "      <td>22</td>\n",
       "      <td>oct</td>\n",
       "      <td>2</td>\n",
       "      <td>-1</td>\n",
       "      <td>0</td>\n",
       "      <td>1</td>\n",
       "      <td>252</td>\n",
       "    </tr>\n",
       "  </tbody>\n",
       "</table>\n",
       "</div>"
      ],
      "text/plain": [
       "       age job_type marital_status education_level  default_or_not  \\\n",
       "2166  18.0  student         single         primary               0   \n",
       "140   18.0  student         single             NaN               0   \n",
       "2903  18.0  student         single         primary               0   \n",
       "1134  18.0  student         single         primary               0   \n",
       "760   19.0  student         single       secondary               0   \n",
       "\n",
       "      balance_amt  household_insurance  car_loan communication  \\\n",
       "2166        608.0                    0         0      cellular   \n",
       "140         108.0                    0         0      cellular   \n",
       "2903        608.0                    0         0      cellular   \n",
       "1134        608.0                    0         0      cellular   \n",
       "760         329.0                    0         0      cellular   \n",
       "\n",
       "      last_contact_day last_contact_month  no_of_contacts  days_passed  \\\n",
       "2166                12                aug               1           -1   \n",
       "140                  8                sep               1           -1   \n",
       "2903                12                aug               1           -1   \n",
       "1134                13                nov               1           93   \n",
       "760                 22                oct               2           -1   \n",
       "\n",
       "      prev_attempts  car_insurance  call_duration  \n",
       "2166              0              1            267  \n",
       "140               0              1            169  \n",
       "2903              0              1            267  \n",
       "1134              1              1            210  \n",
       "760               0              1            252  "
      ]
     },
     "execution_count": 30,
     "metadata": {},
     "output_type": "execute_result"
    }
   ],
   "source": [
    "df.head()"
   ]
  },
  {
   "cell_type": "code",
   "execution_count": 31,
   "id": "9e8600f5-62b4-4347-a570-acc1fd2159ee",
   "metadata": {},
   "outputs": [
    {
     "data": {
      "text/plain": [
       "<AxesSubplot:xlabel='call_duration', ylabel='Count'>"
      ]
     },
     "execution_count": 31,
     "metadata": {},
     "output_type": "execute_result"
    },
    {
     "data": {
      "image/png": "[encoded data removed]",
      "text/plain": [
       "<Figure size 1152x360 with 1 Axes>"
      ]
     },
     "metadata": {
      "needs_background": "light"
     },
     "output_type": "display_data"
    }
   ],
   "source": [
    "plt.figure(figsize=(16,5))\n",
    "sns.histplot(data=df, x=\"call_duration\", hue=\"car_insurance\", bins=10,)"
   ]
  },
  {
   "cell_type": "markdown",
   "id": "34c9926d-a3b1-462a-b13b-dcb974412115",
   "metadata": {},
   "source": [
    "There were 16 hour long calls? -_-"
   ]
  },
  {
   "cell_type": "code",
   "execution_count": 32,
   "id": "1de4c4a8-6c19-4ded-b91f-ddfb45e12235",
   "metadata": {},
   "outputs": [
    {
     "data": {
      "text/plain": [
       "82025"
      ]
     },
     "execution_count": 32,
     "metadata": {},
     "output_type": "execute_result"
    }
   ],
   "source": [
    "np.max(df.call_duration)"
   ]
  },
  {
   "cell_type": "code",
   "execution_count": 33,
   "id": "7533f684-41ff-4b26-a08e-0063babdf35c",
   "metadata": {},
   "outputs": [
    {
     "data": {
      "text/plain": [
       "5032.00354609929"
      ]
     },
     "execution_count": 33,
     "metadata": {},
     "output_type": "execute_result"
    }
   ],
   "source": [
    "np.average(df.call_duration)"
   ]
  },
  {
   "cell_type": "markdown",
   "id": "90d11b89-ddba-4802-97b0-7541cd1ebd93",
   "metadata": {},
   "source": [
    "Calls longer than 3 hours have more chances of success"
   ]
  },
  {
   "cell_type": "code",
   "execution_count": 34,
   "id": "678c68ee-f6bb-4986-bf20-1c96045d5ecc",
   "metadata": {},
   "outputs": [
    {
     "data": {
      "text/plain": [
       "<AxesSubplot:xlabel='car_insurance', ylabel='count'>"
      ]
     },
     "execution_count": 34,
     "metadata": {},
     "output_type": "execute_result"
    },
    {
     "data": {
      "image/png": "[encoded data removed]",
      "text/plain": [
       "<Figure size 432x288 with 1 Axes>"
      ]
     },
     "metadata": {
      "needs_background": "light"
     },
     "output_type": "display_data"
    }
   ],
   "source": [
    "sns.countplot(data=df, x=\"car_insurance\")"
   ]
  },
  {
   "cell_type": "code",
   "execution_count": 35,
   "id": "9bb9eca7-7c0e-457e-a38b-1d676ee99a58",
   "metadata": {},
   "outputs": [
    {
     "name": "stdout",
     "output_type": "stream",
     "text": [
      "<class 'pandas.core.frame.DataFrame'>\n",
      "Int64Index: 3102 entries, 2166 to 1580\n",
      "Data columns (total 16 columns):\n",
      " #   Column               Non-Null Count  Dtype  \n",
      "---  ------               --------------  -----  \n",
      " 0   age                  3102 non-null   float64\n",
      " 1   job_type             3102 non-null   object \n",
      " 2   marital_status       3102 non-null   object \n",
      " 3   education_level      3102 non-null   object \n",
      " 4   default_or_not       3102 non-null   int64  \n",
      " 5   balance_amt          3102 non-null   float64\n",
      " 6   household_insurance  3102 non-null   int64  \n",
      " 7   car_loan             3102 non-null   int64  \n",
      " 8   communication        2559 non-null   object \n",
      " 9   last_contact_day     3102 non-null   int64  \n",
      " 10  last_contact_month   3102 non-null   object \n",
      " 11  no_of_contacts       3102 non-null   int64  \n",
      " 12  days_passed          3102 non-null   int64  \n",
      " 13  prev_attempts        3102 non-null   int64  \n",
      " 14  car_insurance        3102 non-null   int64  \n",
      " 15  call_duration        3102 non-null   int64  \n",
      "dtypes: float64(2), int64(9), object(5)\n",
      "memory usage: 476.5+ KB\n"
     ]
    }
   ],
   "source": [
    "df.info()"
   ]
  },
  {
   "cell_type": "code",
   "execution_count": 36,
   "id": "7d144bbb-399a-4d73-8199-95c80a215672",
   "metadata": {},
   "outputs": [
    {
     "data": {
      "text/plain": [
       "age                      0\n",
       "job_type                 0\n",
       "marital_status           0\n",
       "education_level          0\n",
       "default_or_not           0\n",
       "balance_amt              0\n",
       "household_insurance      0\n",
       "car_loan                 0\n",
       "communication          543\n",
       "last_contact_day         0\n",
       "last_contact_month       0\n",
       "no_of_contacts           0\n",
       "days_passed              0\n",
       "prev_attempts            0\n",
       "car_insurance            0\n",
       "call_duration            0\n",
       "dtype: int64"
      ]
     },
     "execution_count": 36,
     "metadata": {},
     "output_type": "execute_result"
    }
   ],
   "source": [
    "df.isnull().sum()"
   ]
  },
  {
   "cell_type": "markdown",
   "id": "86cc6770-b10e-47ba-a90c-c892d2a4522d",
   "metadata": {},
   "source": [
    "## Pre-Processing"
   ]
  },
  {
   "cell_type": "code",
   "execution_count": 37,
   "id": "0fd043a0-5178-4cdd-8901-908ba3119b01",
   "metadata": {},
   "outputs": [
    {
     "data": {
      "text/html": [
       "<div>\n",
       "<style scoped>\n",
       "    .dataframe tbody tr th:only-of-type {\n",
       "        vertical-align: middle;\n",
       "    }\n",
       "\n",
       "    .dataframe tbody tr th {\n",
       "        vertical-align: top;\n",
       "    }\n",
       "\n",
       "    .dataframe thead th {\n",
       "        text-align: right;\n",
       "    }\n",
       "</style>\n",
       "<table border=\"1\" class=\"dataframe\">\n",
       "  <thead>\n",
       "    <tr style=\"text-align: right;\">\n",
       "      <th></th>\n",
       "      <th>age</th>\n",
       "      <th>job_type</th>\n",
       "      <th>marital_status</th>\n",
       "      <th>education_level</th>\n",
       "      <th>default_or_not</th>\n",
       "      <th>balance_amt</th>\n",
       "      <th>household_insurance</th>\n",
       "      <th>car_loan</th>\n",
       "      <th>communication</th>\n",
       "      <th>last_contact_day</th>\n",
       "      <th>last_contact_month</th>\n",
       "      <th>no_of_contacts</th>\n",
       "      <th>days_passed</th>\n",
       "      <th>prev_attempts</th>\n",
       "      <th>car_insurance</th>\n",
       "      <th>call_duration</th>\n",
       "    </tr>\n",
       "  </thead>\n",
       "  <tbody>\n",
       "    <tr>\n",
       "      <th>2166</th>\n",
       "      <td>18.0</td>\n",
       "      <td>student</td>\n",
       "      <td>single</td>\n",
       "      <td>primary</td>\n",
       "      <td>0</td>\n",
       "      <td>608.0</td>\n",
       "      <td>0</td>\n",
       "      <td>0</td>\n",
       "      <td>cellular</td>\n",
       "      <td>12</td>\n",
       "      <td>aug</td>\n",
       "      <td>1</td>\n",
       "      <td>-1</td>\n",
       "      <td>0</td>\n",
       "      <td>1</td>\n",
       "      <td>267</td>\n",
       "    </tr>\n",
       "    <tr>\n",
       "      <th>140</th>\n",
       "      <td>18.0</td>\n",
       "      <td>student</td>\n",
       "      <td>single</td>\n",
       "      <td>NaN</td>\n",
       "      <td>0</td>\n",
       "      <td>108.0</td>\n",
       "      <td>0</td>\n",
       "      <td>0</td>\n",
       "      <td>cellular</td>\n",
       "      <td>8</td>\n",
       "      <td>sep</td>\n",
       "      <td>1</td>\n",
       "      <td>-1</td>\n",
       "      <td>0</td>\n",
       "      <td>1</td>\n",
       "      <td>169</td>\n",
       "    </tr>\n",
       "    <tr>\n",
       "      <th>2903</th>\n",
       "      <td>18.0</td>\n",
       "      <td>student</td>\n",
       "      <td>single</td>\n",
       "      <td>primary</td>\n",
       "      <td>0</td>\n",
       "      <td>608.0</td>\n",
       "      <td>0</td>\n",
       "      <td>0</td>\n",
       "      <td>cellular</td>\n",
       "      <td>12</td>\n",
       "      <td>aug</td>\n",
       "      <td>1</td>\n",
       "      <td>-1</td>\n",
       "      <td>0</td>\n",
       "      <td>1</td>\n",
       "      <td>267</td>\n",
       "    </tr>\n",
       "    <tr>\n",
       "      <th>1134</th>\n",
       "      <td>18.0</td>\n",
       "      <td>student</td>\n",
       "      <td>single</td>\n",
       "      <td>primary</td>\n",
       "      <td>0</td>\n",
       "      <td>608.0</td>\n",
       "      <td>0</td>\n",
       "      <td>0</td>\n",
       "      <td>cellular</td>\n",
       "      <td>13</td>\n",
       "      <td>nov</td>\n",
       "      <td>1</td>\n",
       "      <td>93</td>\n",
       "      <td>1</td>\n",
       "      <td>1</td>\n",
       "      <td>210</td>\n",
       "    </tr>\n",
       "    <tr>\n",
       "      <th>760</th>\n",
       "      <td>19.0</td>\n",
       "      <td>student</td>\n",
       "      <td>single</td>\n",
       "      <td>secondary</td>\n",
       "      <td>0</td>\n",
       "      <td>329.0</td>\n",
       "      <td>0</td>\n",
       "      <td>0</td>\n",
       "      <td>cellular</td>\n",
       "      <td>22</td>\n",
       "      <td>oct</td>\n",
       "      <td>2</td>\n",
       "      <td>-1</td>\n",
       "      <td>0</td>\n",
       "      <td>1</td>\n",
       "      <td>252</td>\n",
       "    </tr>\n",
       "  </tbody>\n",
       "</table>\n",
       "</div>"
      ],
      "text/plain": [
       "       age job_type marital_status education_level  default_or_not  \\\n",
       "2166  18.0  student         single         primary               0   \n",
       "140   18.0  student         single             NaN               0   \n",
       "2903  18.0  student         single         primary               0   \n",
       "1134  18.0  student         single         primary               0   \n",
       "760   19.0  student         single       secondary               0   \n",
       "\n",
       "      balance_amt  household_insurance  car_loan communication  \\\n",
       "2166        608.0                    0         0      cellular   \n",
       "140         108.0                    0         0      cellular   \n",
       "2903        608.0                    0         0      cellular   \n",
       "1134        608.0                    0         0      cellular   \n",
       "760         329.0                    0         0      cellular   \n",
       "\n",
       "      last_contact_day last_contact_month  no_of_contacts  days_passed  \\\n",
       "2166                12                aug               1           -1   \n",
       "140                  8                sep               1           -1   \n",
       "2903                12                aug               1           -1   \n",
       "1134                13                nov               1           93   \n",
       "760                 22                oct               2           -1   \n",
       "\n",
       "      prev_attempts  car_insurance  call_duration  \n",
       "2166              0              1            267  \n",
       "140               0              1            169  \n",
       "2903              0              1            267  \n",
       "1134              1              1            210  \n",
       "760               0              1            252  "
      ]
     },
     "execution_count": 37,
     "metadata": {},
     "output_type": "execute_result"
    }
   ],
   "source": [
    "df.head()"
   ]
  },
  {
   "cell_type": "code",
   "execution_count": 38,
   "id": "801548de-8519-414d-b211-84deb3108da8",
   "metadata": {},
   "outputs": [
    {
     "data": {
      "text/plain": [
       "Index(['age', 'job_type', 'marital_status', 'education_level',\n",
       "       'default_or_not', 'balance_amt', 'household_insurance', 'car_loan',\n",
       "       'communication', 'last_contact_day', 'last_contact_month',\n",
       "       'no_of_contacts', 'days_passed', 'prev_attempts', 'car_insurance',\n",
       "       'call_duration'],\n",
       "      dtype='object')"
      ]
     },
     "execution_count": 38,
     "metadata": {},
     "output_type": "execute_result"
    }
   ],
   "source": [
    "df.columns"
   ]
  },
  {
   "cell_type": "code",
   "execution_count": 39,
   "id": "cc5583ad-0346-42ac-b214-63802ee206d5",
   "metadata": {},
   "outputs": [],
   "source": [
    "df = df.drop(columns=['last_contact_day', 'last_contact_month'])\n",
    "test = test.drop(columns=['last_contact_day', 'last_contact_month'])"
   ]
  },
  {
   "cell_type": "code",
   "execution_count": 40,
   "id": "f11147b7-36e3-4a43-a5f8-271b75152a45",
   "metadata": {},
   "outputs": [
    {
     "name": "stdout",
     "output_type": "stream",
     "text": [
      "<class 'pandas.core.frame.DataFrame'>\n",
      "Int64Index: 3102 entries, 2166 to 1580\n",
      "Data columns (total 14 columns):\n",
      " #   Column               Non-Null Count  Dtype  \n",
      "---  ------               --------------  -----  \n",
      " 0   age                  3102 non-null   float64\n",
      " 1   job_type             3102 non-null   object \n",
      " 2   marital_status       3102 non-null   object \n",
      " 3   education_level      3102 non-null   object \n",
      " 4   default_or_not       3102 non-null   int64  \n",
      " 5   balance_amt          3102 non-null   float64\n",
      " 6   household_insurance  3102 non-null   int64  \n",
      " 7   car_loan             3102 non-null   int64  \n",
      " 8   communication        2559 non-null   object \n",
      " 9   no_of_contacts       3102 non-null   int64  \n",
      " 10  days_passed          3102 non-null   int64  \n",
      " 11  prev_attempts        3102 non-null   int64  \n",
      " 12  car_insurance        3102 non-null   int64  \n",
      " 13  call_duration        3102 non-null   int64  \n",
      "dtypes: float64(2), int64(8), object(4)\n",
      "memory usage: 428.1+ KB\n"
     ]
    }
   ],
   "source": [
    "df.info()"
   ]
  },
  {
   "cell_type": "code",
   "execution_count": 41,
   "id": "d0ea4e48-5bff-4bf3-84c5-9a0e8b144fe2",
   "metadata": {},
   "outputs": [
    {
     "data": {
      "text/plain": [
       "age                      0\n",
       "job_type                 0\n",
       "marital_status           0\n",
       "education_level          0\n",
       "default_or_not           0\n",
       "balance_amt              0\n",
       "household_insurance      0\n",
       "car_loan                 0\n",
       "communication          543\n",
       "no_of_contacts           0\n",
       "days_passed              0\n",
       "prev_attempts            0\n",
       "car_insurance            0\n",
       "call_duration            0\n",
       "dtype: int64"
      ]
     },
     "execution_count": 41,
     "metadata": {},
     "output_type": "execute_result"
    }
   ],
   "source": [
    "df.isnull().sum()"
   ]
  },
  {
   "cell_type": "markdown",
   "id": "b648483c-9ba5-4b75-a6ea-d1a778f2e8bf",
   "metadata": {},
   "source": [
    "job_type and education_level have \"NaN\" as string"
   ]
  },
  {
   "cell_type": "markdown",
   "id": "24f3563a-61ae-4425-a31d-0416ea2c9cab",
   "metadata": {},
   "source": [
    "### Imputing manually"
   ]
  },
  {
   "cell_type": "code",
   "execution_count": 42,
   "id": "29ff20e5-2720-426f-b9f7-50504c57edf1",
   "metadata": {},
   "outputs": [
    {
     "data": {
      "text/plain": [
       "0    management\n",
       "dtype: object"
      ]
     },
     "execution_count": 42,
     "metadata": {},
     "output_type": "execute_result"
    }
   ],
   "source": [
    "df.job_type.mode()"
   ]
  },
  {
   "cell_type": "code",
   "execution_count": 43,
   "id": "d59ce422-7de2-4411-89c0-2d3eea7f3dc9",
   "metadata": {},
   "outputs": [],
   "source": [
    "df.job_type = df.job_type.replace({\"NaN\":\"management\"})"
   ]
  },
  {
   "cell_type": "code",
   "execution_count": 44,
   "id": "a6ac137f-ddde-495b-84de-9051099e5496",
   "metadata": {},
   "outputs": [
    {
     "data": {
      "text/plain": [
       "0    management\n",
       "dtype: object"
      ]
     },
     "execution_count": 44,
     "metadata": {},
     "output_type": "execute_result"
    }
   ],
   "source": [
    "test.job_type.mode()"
   ]
  },
  {
   "cell_type": "code",
   "execution_count": 45,
   "id": "56beee43-0514-440a-8e07-43e89deaa936",
   "metadata": {},
   "outputs": [],
   "source": [
    "test.job_type = test.job_type.replace({\"NaN\":\"management\"})"
   ]
  },
  {
   "cell_type": "code",
   "execution_count": 46,
   "id": "c5deebd4-a000-4971-a047-9c8f18b3f9ff",
   "metadata": {},
   "outputs": [
    {
     "data": {
      "text/plain": [
       "0    secondary\n",
       "dtype: object"
      ]
     },
     "execution_count": 46,
     "metadata": {},
     "output_type": "execute_result"
    }
   ],
   "source": [
    "df.education_level.mode()"
   ]
  },
  {
   "cell_type": "code",
   "execution_count": 47,
   "id": "a2b2d285-55a8-4efa-80d7-8dc25582f120",
   "metadata": {},
   "outputs": [],
   "source": [
    "df.education_level = df.education_level.replace({\"NaN\":\"secondary\"})"
   ]
  },
  {
   "cell_type": "code",
   "execution_count": 48,
   "id": "5afd58d6-2f95-4afe-b3d0-a75bd5e3cbdd",
   "metadata": {},
   "outputs": [
    {
     "data": {
      "text/plain": [
       "0    secondary\n",
       "dtype: object"
      ]
     },
     "execution_count": 48,
     "metadata": {},
     "output_type": "execute_result"
    }
   ],
   "source": [
    "test.education_level.mode()"
   ]
  },
  {
   "cell_type": "code",
   "execution_count": 49,
   "id": "36a2e34c-90d0-4c8b-845f-04ff82fe0d4d",
   "metadata": {},
   "outputs": [],
   "source": [
    "test.education_level = test.education_level.replace({\"NaN\":\"secondary\"})"
   ]
  },
  {
   "cell_type": "code",
   "execution_count": 50,
   "id": "b8cc0bed-09e2-41e0-8e23-6d992bf3afa0",
   "metadata": {},
   "outputs": [
    {
     "data": {
      "text/plain": [
       "age                      0\n",
       "job_type                 0\n",
       "marital_status           0\n",
       "education_level          0\n",
       "default_or_not           0\n",
       "balance_amt              0\n",
       "household_insurance      0\n",
       "car_loan                 0\n",
       "communication          543\n",
       "no_of_contacts           0\n",
       "days_passed              0\n",
       "prev_attempts            0\n",
       "car_insurance            0\n",
       "call_duration            0\n",
       "dtype: int64"
      ]
     },
     "execution_count": 50,
     "metadata": {},
     "output_type": "execute_result"
    }
   ],
   "source": [
    "df.isnull().sum()"
   ]
  },
  {
   "cell_type": "code",
   "execution_count": 51,
   "id": "15ccec76-9b44-4181-bd4e-e93816d59417",
   "metadata": {},
   "outputs": [
    {
     "name": "stdout",
     "output_type": "stream",
     "text": [
      "<class 'pandas.core.frame.DataFrame'>\n",
      "Int64Index: 3102 entries, 2166 to 1580\n",
      "Data columns (total 14 columns):\n",
      " #   Column               Non-Null Count  Dtype  \n",
      "---  ------               --------------  -----  \n",
      " 0   age                  3102 non-null   float64\n",
      " 1   job_type             3102 non-null   object \n",
      " 2   marital_status       3102 non-null   object \n",
      " 3   education_level      3102 non-null   object \n",
      " 4   default_or_not       3102 non-null   int64  \n",
      " 5   balance_amt          3102 non-null   float64\n",
      " 6   household_insurance  3102 non-null   int64  \n",
      " 7   car_loan             3102 non-null   int64  \n",
      " 8   communication        2559 non-null   object \n",
      " 9   no_of_contacts       3102 non-null   int64  \n",
      " 10  days_passed          3102 non-null   int64  \n",
      " 11  prev_attempts        3102 non-null   int64  \n",
      " 12  car_insurance        3102 non-null   int64  \n",
      " 13  call_duration        3102 non-null   int64  \n",
      "dtypes: float64(2), int64(8), object(4)\n",
      "memory usage: 428.1+ KB\n"
     ]
    }
   ],
   "source": [
    "df.info()"
   ]
  },
  {
   "cell_type": "code",
   "execution_count": 52,
   "id": "d1c4a13b-c605-45f8-b11a-a992b7be2e73",
   "metadata": {},
   "outputs": [
    {
     "data": {
      "text/plain": [
       "array(['primary', 'secondary', 'tertiary'], dtype=object)"
      ]
     },
     "execution_count": 52,
     "metadata": {},
     "output_type": "execute_result"
    }
   ],
   "source": [
    "np.unique(df.education_level)"
   ]
  },
  {
   "cell_type": "code",
   "execution_count": 53,
   "id": "27263e1e-f9c5-4ee4-8b57-1db54bb6e955",
   "metadata": {},
   "outputs": [],
   "source": [
    "ed_order = {\n",
    "    'primary': 1, 'secondary': 2, 'tertiary': 3\n",
    "}"
   ]
  },
  {
   "cell_type": "code",
   "execution_count": 54,
   "id": "e4c6faed-657c-4eca-8828-65b7fad1c795",
   "metadata": {},
   "outputs": [],
   "source": [
    "df.education_level = df.education_level.replace(ed_order)\n",
    "test.education_level = test.education_level.replace(ed_order)"
   ]
  },
  {
   "cell_type": "code",
   "execution_count": 55,
   "id": "ab833b51-ff4b-4649-8dd5-44c32bb1e8ee",
   "metadata": {},
   "outputs": [],
   "source": [
    "df = pd.get_dummies(df, columns=[\"job_type\"], prefix=\"job\")\n",
    "test = pd.get_dummies(test, columns=[\"job_type\"], prefix=\"job\")"
   ]
  },
  {
   "cell_type": "code",
   "execution_count": 56,
   "id": "3d2c36a3-0c2f-4f16-a0d0-2d2419a9c101",
   "metadata": {},
   "outputs": [],
   "source": [
    "df = pd.get_dummies(df, columns=[\"marital_status\"], prefix=\"martial_status\")\n",
    "test = pd.get_dummies(test, columns=[\"marital_status\"], prefix=\"martial_status\")"
   ]
  },
  {
   "cell_type": "code",
   "execution_count": 57,
   "id": "7e24122f-0d57-4258-90b4-5849d734f3f6",
   "metadata": {},
   "outputs": [],
   "source": [
    "df = pd.get_dummies(df, columns=[\"communication\"], prefix=\"communication\")\n",
    "test = pd.get_dummies(test, columns=[\"communication\"], prefix=\"communication\")"
   ]
  },
  {
   "cell_type": "code",
   "execution_count": 58,
   "id": "460e1278-2937-4e67-82d1-15a12bf735ba",
   "metadata": {},
   "outputs": [
    {
     "data": {
      "text/html": [
       "<div>\n",
       "<style scoped>\n",
       "    .dataframe tbody tr th:only-of-type {\n",
       "        vertical-align: middle;\n",
       "    }\n",
       "\n",
       "    .dataframe tbody tr th {\n",
       "        vertical-align: top;\n",
       "    }\n",
       "\n",
       "    .dataframe thead th {\n",
       "        text-align: right;\n",
       "    }\n",
       "</style>\n",
       "<table border=\"1\" class=\"dataframe\">\n",
       "  <thead>\n",
       "    <tr style=\"text-align: right;\">\n",
       "      <th></th>\n",
       "      <th>age</th>\n",
       "      <th>education_level</th>\n",
       "      <th>default_or_not</th>\n",
       "      <th>balance_amt</th>\n",
       "      <th>household_insurance</th>\n",
       "      <th>car_loan</th>\n",
       "      <th>no_of_contacts</th>\n",
       "      <th>days_passed</th>\n",
       "      <th>prev_attempts</th>\n",
       "      <th>car_insurance</th>\n",
       "      <th>...</th>\n",
       "      <th>job_self-employed</th>\n",
       "      <th>job_services</th>\n",
       "      <th>job_student</th>\n",
       "      <th>job_technician</th>\n",
       "      <th>job_unemployed</th>\n",
       "      <th>martial_status_divorced</th>\n",
       "      <th>martial_status_married</th>\n",
       "      <th>martial_status_single</th>\n",
       "      <th>communication_cellular</th>\n",
       "      <th>communication_telephone</th>\n",
       "    </tr>\n",
       "  </thead>\n",
       "  <tbody>\n",
       "    <tr>\n",
       "      <th>2166</th>\n",
       "      <td>18.0</td>\n",
       "      <td>1</td>\n",
       "      <td>0</td>\n",
       "      <td>608.0</td>\n",
       "      <td>0</td>\n",
       "      <td>0</td>\n",
       "      <td>1</td>\n",
       "      <td>-1</td>\n",
       "      <td>0</td>\n",
       "      <td>1</td>\n",
       "      <td>...</td>\n",
       "      <td>0</td>\n",
       "      <td>0</td>\n",
       "      <td>1</td>\n",
       "      <td>0</td>\n",
       "      <td>0</td>\n",
       "      <td>0</td>\n",
       "      <td>0</td>\n",
       "      <td>1</td>\n",
       "      <td>1</td>\n",
       "      <td>0</td>\n",
       "    </tr>\n",
       "    <tr>\n",
       "      <th>140</th>\n",
       "      <td>18.0</td>\n",
       "      <td>2</td>\n",
       "      <td>0</td>\n",
       "      <td>108.0</td>\n",
       "      <td>0</td>\n",
       "      <td>0</td>\n",
       "      <td>1</td>\n",
       "      <td>-1</td>\n",
       "      <td>0</td>\n",
       "      <td>1</td>\n",
       "      <td>...</td>\n",
       "      <td>0</td>\n",
       "      <td>0</td>\n",
       "      <td>1</td>\n",
       "      <td>0</td>\n",
       "      <td>0</td>\n",
       "      <td>0</td>\n",
       "      <td>0</td>\n",
       "      <td>1</td>\n",
       "      <td>1</td>\n",
       "      <td>0</td>\n",
       "    </tr>\n",
       "    <tr>\n",
       "      <th>2903</th>\n",
       "      <td>18.0</td>\n",
       "      <td>1</td>\n",
       "      <td>0</td>\n",
       "      <td>608.0</td>\n",
       "      <td>0</td>\n",
       "      <td>0</td>\n",
       "      <td>1</td>\n",
       "      <td>-1</td>\n",
       "      <td>0</td>\n",
       "      <td>1</td>\n",
       "      <td>...</td>\n",
       "      <td>0</td>\n",
       "      <td>0</td>\n",
       "      <td>1</td>\n",
       "      <td>0</td>\n",
       "      <td>0</td>\n",
       "      <td>0</td>\n",
       "      <td>0</td>\n",
       "      <td>1</td>\n",
       "      <td>1</td>\n",
       "      <td>0</td>\n",
       "    </tr>\n",
       "    <tr>\n",
       "      <th>1134</th>\n",
       "      <td>18.0</td>\n",
       "      <td>1</td>\n",
       "      <td>0</td>\n",
       "      <td>608.0</td>\n",
       "      <td>0</td>\n",
       "      <td>0</td>\n",
       "      <td>1</td>\n",
       "      <td>93</td>\n",
       "      <td>1</td>\n",
       "      <td>1</td>\n",
       "      <td>...</td>\n",
       "      <td>0</td>\n",
       "      <td>0</td>\n",
       "      <td>1</td>\n",
       "      <td>0</td>\n",
       "      <td>0</td>\n",
       "      <td>0</td>\n",
       "      <td>0</td>\n",
       "      <td>1</td>\n",
       "      <td>1</td>\n",
       "      <td>0</td>\n",
       "    </tr>\n",
       "    <tr>\n",
       "      <th>760</th>\n",
       "      <td>19.0</td>\n",
       "      <td>2</td>\n",
       "      <td>0</td>\n",
       "      <td>329.0</td>\n",
       "      <td>0</td>\n",
       "      <td>0</td>\n",
       "      <td>2</td>\n",
       "      <td>-1</td>\n",
       "      <td>0</td>\n",
       "      <td>1</td>\n",
       "      <td>...</td>\n",
       "      <td>0</td>\n",
       "      <td>0</td>\n",
       "      <td>1</td>\n",
       "      <td>0</td>\n",
       "      <td>0</td>\n",
       "      <td>0</td>\n",
       "      <td>0</td>\n",
       "      <td>1</td>\n",
       "      <td>1</td>\n",
       "      <td>0</td>\n",
       "    </tr>\n",
       "  </tbody>\n",
       "</table>\n",
       "<p>5 rows × 27 columns</p>\n",
       "</div>"
      ],
      "text/plain": [
       "       age  education_level  default_or_not  balance_amt  household_insurance  \\\n",
       "2166  18.0                1               0        608.0                    0   \n",
       "140   18.0                2               0        108.0                    0   \n",
       "2903  18.0                1               0        608.0                    0   \n",
       "1134  18.0                1               0        608.0                    0   \n",
       "760   19.0                2               0        329.0                    0   \n",
       "\n",
       "      car_loan  no_of_contacts  days_passed  prev_attempts  car_insurance  \\\n",
       "2166         0               1           -1              0              1   \n",
       "140          0               1           -1              0              1   \n",
       "2903         0               1           -1              0              1   \n",
       "1134         0               1           93              1              1   \n",
       "760          0               2           -1              0              1   \n",
       "\n",
       "      ...  job_self-employed  job_services  job_student  job_technician  \\\n",
       "2166  ...                  0             0            1               0   \n",
       "140   ...                  0             0            1               0   \n",
       "2903  ...                  0             0            1               0   \n",
       "1134  ...                  0             0            1               0   \n",
       "760   ...                  0             0            1               0   \n",
       "\n",
       "      job_unemployed  martial_status_divorced  martial_status_married  \\\n",
       "2166               0                        0                       0   \n",
       "140                0                        0                       0   \n",
       "2903               0                        0                       0   \n",
       "1134               0                        0                       0   \n",
       "760                0                        0                       0   \n",
       "\n",
       "      martial_status_single  communication_cellular  communication_telephone  \n",
       "2166                      1                       1                        0  \n",
       "140                       1                       1                        0  \n",
       "2903                      1                       1                        0  \n",
       "1134                      1                       1                        0  \n",
       "760                       1                       1                        0  \n",
       "\n",
       "[5 rows x 27 columns]"
      ]
     },
     "execution_count": 58,
     "metadata": {},
     "output_type": "execute_result"
    }
   ],
   "source": [
    "df.head()"
   ]
  },
  {
   "cell_type": "code",
   "execution_count": 59,
   "id": "111fa1fe-4972-482d-b0fc-2e53eb21cafe",
   "metadata": {},
   "outputs": [
    {
     "name": "stdout",
     "output_type": "stream",
     "text": [
      "<class 'pandas.core.frame.DataFrame'>\n",
      "Int64Index: 3102 entries, 2166 to 1580\n",
      "Data columns (total 27 columns):\n",
      " #   Column                   Non-Null Count  Dtype  \n",
      "---  ------                   --------------  -----  \n",
      " 0   age                      3102 non-null   float64\n",
      " 1   education_level          3102 non-null   int64  \n",
      " 2   default_or_not           3102 non-null   int64  \n",
      " 3   balance_amt              3102 non-null   float64\n",
      " 4   household_insurance      3102 non-null   int64  \n",
      " 5   car_loan                 3102 non-null   int64  \n",
      " 6   no_of_contacts           3102 non-null   int64  \n",
      " 7   days_passed              3102 non-null   int64  \n",
      " 8   prev_attempts            3102 non-null   int64  \n",
      " 9   car_insurance            3102 non-null   int64  \n",
      " 10  call_duration            3102 non-null   int64  \n",
      " 11  job_admin.               3102 non-null   uint8  \n",
      " 12  job_blue-collar          3102 non-null   uint8  \n",
      " 13  job_entrepreneur         3102 non-null   uint8  \n",
      " 14  job_housemaid            3102 non-null   uint8  \n",
      " 15  job_management           3102 non-null   uint8  \n",
      " 16  job_retired              3102 non-null   uint8  \n",
      " 17  job_self-employed        3102 non-null   uint8  \n",
      " 18  job_services             3102 non-null   uint8  \n",
      " 19  job_student              3102 non-null   uint8  \n",
      " 20  job_technician           3102 non-null   uint8  \n",
      " 21  job_unemployed           3102 non-null   uint8  \n",
      " 22  martial_status_divorced  3102 non-null   uint8  \n",
      " 23  martial_status_married   3102 non-null   uint8  \n",
      " 24  martial_status_single    3102 non-null   uint8  \n",
      " 25  communication_cellular   3102 non-null   uint8  \n",
      " 26  communication_telephone  3102 non-null   uint8  \n",
      "dtypes: float64(2), int64(9), uint8(16)\n",
      "memory usage: 403.8 KB\n"
     ]
    }
   ],
   "source": [
    "df.info()"
   ]
  },
  {
   "cell_type": "code",
   "execution_count": 60,
   "id": "82b1ff2b-751a-485f-b2d1-4f70e0122d1e",
   "metadata": {},
   "outputs": [],
   "source": [
    "df.to_csv(\"clean_train.csv\", index=False)\n",
    "test.to_csv(\"clean_test.csv\", index=False)"
   ]
  },
  {
   "cell_type": "code",
   "execution_count": 61,
   "id": "0c024616-3fb8-492d-ba62-19e657576396",
   "metadata": {},
   "outputs": [
    {
     "data": {
      "text/plain": [
       "<AxesSubplot:>"
      ]
     },
     "execution_count": 61,
     "metadata": {},
     "output_type": "execute_result"
    },
    {
     "data": {
      "image/png": "[encoded data removed]",
      "text/plain": [
       "<Figure size 1152x648 with 2 Axes>"
      ]
     },
     "metadata": {
      "needs_background": "light"
     },
     "output_type": "display_data"
    }
   ],
   "source": [
    "plt.figure(figsize=(16,9))\n",
    "sns.heatmap(df.corr())"
   ]
  },
  {
   "cell_type": "code",
   "execution_count": 62,
   "id": "fc7c8d1b-2d63-4226-99a2-830aebeb5215",
   "metadata": {},
   "outputs": [],
   "source": [
    "from sklearn.model_selection import train_test_split"
   ]
  },
  {
   "cell_type": "code",
   "execution_count": 63,
   "id": "e263eef6-9958-4f88-85c6-08c8da292964",
   "metadata": {},
   "outputs": [],
   "source": [
    "X, y = df.drop(columns=[\"car_insurance\"]), df.car_insurance\n",
    "\n",
    "X_train, X_valid, y_train, y_valid = train_test_split(X, y, test_size=0.2, random_state=42)"
   ]
  },
  {
   "cell_type": "code",
   "execution_count": 64,
   "id": "e572c8ba-fcdb-49bb-b167-4ebde0fc24a6",
   "metadata": {},
   "outputs": [],
   "source": [
    "from sklearn.tree import DecisionTreeClassifier"
   ]
  },
  {
   "cell_type": "code",
   "execution_count": 65,
   "id": "943d15e9-9391-4a83-b02b-0b878a25330f",
   "metadata": {},
   "outputs": [
    {
     "data": {
      "text/plain": [
       "0.8148148148148148"
      ]
     },
     "execution_count": 65,
     "metadata": {},
     "output_type": "execute_result"
    }
   ],
   "source": [
    "dt = DecisionTreeClassifier(random_state=42)\n",
    "\n",
    "dt.fit(X_train, y_train)\n",
    "\n",
    "dt.score(X_valid, y_valid)"
   ]
  },
  {
   "cell_type": "code",
   "execution_count": 66,
   "id": "93faadaa-68c8-45e5-8e94-651de17f5329",
   "metadata": {},
   "outputs": [],
   "source": [
    "from sklearn.ensemble import RandomForestClassifier"
   ]
  },
  {
   "cell_type": "code",
   "execution_count": 67,
   "id": "66c39539-f10f-4694-b685-e212f662bbfa",
   "metadata": {},
   "outputs": [
    {
     "data": {
      "text/plain": [
       "0.8727858293075684"
      ]
     },
     "execution_count": 67,
     "metadata": {},
     "output_type": "execute_result"
    }
   ],
   "source": [
    "rf = RandomForestClassifier(random_state=42)\n",
    "\n",
    "rf.fit(X_train, y_train)\n",
    "\n",
    "rf.score(X_valid, y_valid)"
   ]
  },
  {
   "cell_type": "markdown",
   "id": "985fdedd-4284-4bdc-95d9-88a0e5ef196f",
   "metadata": {
    "tags": []
   },
   "source": [
    "### Hyperparameter Tuning"
   ]
  },
  {
   "cell_type": "code",
   "execution_count": 68,
   "id": "097aafe1-96bd-4b6b-ba9e-f56bf26f590c",
   "metadata": {},
   "outputs": [],
   "source": [
    "from sklearn.model_selection import RandomizedSearchCV"
   ]
  },
  {
   "cell_type": "code",
   "execution_count": 69,
   "id": "4ebd1926-f847-4658-a7ae-98710173700b",
   "metadata": {},
   "outputs": [],
   "source": [
    "param_grid = [\n",
    "    {\"n_estimators\": np.linspace(10, 1000, 100, dtype=np.uint8)}, {\"citerion\": [\"gini\", \"entropy\"]},\n",
    "    {\"max_depth\": [None] + list(range(5, 500, 100))}, \n",
    "    {\"min_samples_split\": np.linspace(2, 500, 100, dtype=np.uint8)},\n",
    "    {\"min_samples_leaf\": np.linspace(1, 1000, 100, dtype=np.uint8)}, {\"max_features\": [\"auto\", \"sqrt\", \"log2\"]},\n",
    "    {\"max_leaf_nodes\": np.linspace(1, 1000, 100, dtype=np.uint8)}, {\"bootstrap\": [True, False]}\n",
    "]"
   ]
  },
  {
   "cell_type": "code",
   "execution_count": 70,
   "id": "93b0c37f-2859-43d4-9747-d1e0fb9f58e0",
   "metadata": {},
   "outputs": [],
   "source": [
    "rf = RandomForestClassifier(random_state=42)"
   ]
  },
  {
   "cell_type": "code",
   "execution_count": 71,
   "id": "22528079-5253-4bc1-8e0a-5568b8492c3e",
   "metadata": {},
   "outputs": [],
   "source": [
    "random_cv = RandomizedSearchCV(rf, param_grid, cv=5, n_jobs=-1, verbose=2)"
   ]
  },
  {
   "cell_type": "code",
   "execution_count": 72,
   "id": "5cac35e4-320b-4aee-8f1c-1da9d34dc84c",
   "metadata": {},
   "outputs": [
    {
     "name": "stdout",
     "output_type": "stream",
     "text": [
      "Fitting 5 folds for each of 10 candidates, totalling 50 fits\n"
     ]
    },
    {
     "data": {
      "text/plain": [
       "RandomizedSearchCV(cv=5, estimator=RandomForestClassifier(random_state=42),\n",
       "                   n_jobs=-1,\n",
       "                   param_distributions=[{'n_estimators': array([ 10,  20,  30,  40,  50,  60,  70,  80,  90, 100, 110, 120, 130,\n",
       "       140, 150, 160, 170, 180, 190, 200, 210, 220, 230, 240, 250,   4,\n",
       "        14,  24,  34,  44,  54,  64,  74,  84,  94, 104, 114, 124, 134,\n",
       "       144, 154, 164, 174, 184, 194, 204, 214, 224, 234, 244, 254,   8,\n",
       "        18,  28,  38,  48,  58,  68,  78,  88,  98, 108, 118, 1...\n",
       "       132, 142, 152, 162, 172, 182, 192, 202, 212, 223, 233, 243, 253,\n",
       "         7,  17,  27,  37,  47,  57,  67,  78,  88,  98, 108, 118, 128,\n",
       "       138, 148, 158, 168, 178, 189, 199, 209, 219, 229, 239, 249,   3,\n",
       "        13,  23,  33,  44,  54,  64,  74,  84,  94, 104, 114, 124, 134,\n",
       "       144, 155, 165, 175, 185, 195, 205, 215, 225, 235, 245, 255,  10,\n",
       "        20,  30,  40,  50,  60,  70,  80,  90, 100, 110, 121, 131, 141,\n",
       "       151, 161, 171, 181, 191, 201, 211, 221, 232], dtype=uint8)},\n",
       "                                        {'bootstrap': [True, False]}],\n",
       "                   verbose=2)"
      ]
     },
     "execution_count": 72,
     "metadata": {},
     "output_type": "execute_result"
    }
   ],
   "source": [
    "random_cv.fit(X_train, y_train)"
   ]
  },
  {
   "cell_type": "code",
   "execution_count": 73,
   "id": "70e03144-f476-4a4a-bee1-ed2367fe5711",
   "metadata": {},
   "outputs": [
    {
     "data": {
      "text/plain": [
       "0.8631239935587761"
      ]
     },
     "execution_count": 73,
     "metadata": {},
     "output_type": "execute_result"
    }
   ],
   "source": [
    "random_cv.best_estimator_.score(X_valid, y_valid)"
   ]
  },
  {
   "cell_type": "code",
   "execution_count": 74,
   "id": "2ce1655f-03ba-4b0a-b9d2-ec07ffbb3c8e",
   "metadata": {},
   "outputs": [],
   "source": [
    "test_data_predictions = random_cv.best_estimator_.predict(test)"
   ]
  },
  {
   "cell_type": "code",
   "execution_count": 78,
   "id": "7c89e3db-83c1-4a88-9a5e-9a5b81ddc170",
   "metadata": {},
   "outputs": [
    {
     "data": {
      "text/plain": [
       "True"
      ]
     },
     "execution_count": 78,
     "metadata": {},
     "output_type": "execute_result"
    }
   ],
   "source": [
    "len(test_data_predictions) == len(test)"
   ]
  },
  {
   "cell_type": "code",
   "execution_count": 79,
   "id": "adb24a4c-0b3c-4bee-a77e-a1e0b8b810ff",
   "metadata": {},
   "outputs": [],
   "source": [
    "final_preds = pd.DataFrame(test_data_predictions, columns=[\"predictions\"])"
   ]
  },
  {
   "cell_type": "code",
   "execution_count": 80,
   "id": "db9c2a43-a044-480e-bd71-7b4b0a68c84d",
   "metadata": {},
   "outputs": [
    {
     "data": {
      "text/html": [
       "<div>\n",
       "<style scoped>\n",
       "    .dataframe tbody tr th:only-of-type {\n",
       "        vertical-align: middle;\n",
       "    }\n",
       "\n",
       "    .dataframe tbody tr th {\n",
       "        vertical-align: top;\n",
       "    }\n",
       "\n",
       "    .dataframe thead th {\n",
       "        text-align: right;\n",
       "    }\n",
       "</style>\n",
       "<table border=\"1\" class=\"dataframe\">\n",
       "  <thead>\n",
       "    <tr style=\"text-align: right;\">\n",
       "      <th></th>\n",
       "      <th>predictions</th>\n",
       "    </tr>\n",
       "  </thead>\n",
       "  <tbody>\n",
       "    <tr>\n",
       "      <th>0</th>\n",
       "      <td>1</td>\n",
       "    </tr>\n",
       "    <tr>\n",
       "      <th>1</th>\n",
       "      <td>0</td>\n",
       "    </tr>\n",
       "    <tr>\n",
       "      <th>2</th>\n",
       "      <td>1</td>\n",
       "    </tr>\n",
       "    <tr>\n",
       "      <th>3</th>\n",
       "      <td>1</td>\n",
       "    </tr>\n",
       "    <tr>\n",
       "      <th>4</th>\n",
       "      <td>0</td>\n",
       "    </tr>\n",
       "  </tbody>\n",
       "</table>\n",
       "</div>"
      ],
      "text/plain": [
       "   predictions\n",
       "0            1\n",
       "1            0\n",
       "2            1\n",
       "3            1\n",
       "4            0"
      ]
     },
     "execution_count": 80,
     "metadata": {},
     "output_type": "execute_result"
    }
   ],
   "source": [
    "final_preds.head()"
   ]
  },
  {
   "cell_type": "code",
   "execution_count": 82,
   "id": "07e90b0d-5068-4aa1-8822-c02297345b26",
   "metadata": {},
   "outputs": [],
   "source": [
    "final_preds.to_csv(\"predictions.csv\")"
   ]
  },
  {
   "cell_type": "code",
   "execution_count": null,
   "id": "2aa7c998-edb8-4761-a785-13c217e57bda",
   "metadata": {},
   "outputs": [],
   "source": []
  }
 ],
 "metadata": {
  "kernelspec": {
   "display_name": "Python 3 (ipykernel)",
   "language": "python",
   "name": "python3"
  },
  "language_info": {
   "codemirror_mode": {
    "name": "ipython",
    "version": 3
   },
   "file_extension": ".py",
   "mimetype": "text/x-python",
   "name": "python",
   "nbconvert_exporter": "python",
   "pygments_lexer": "ipython3",
   "version": "3.9.7"
  }
 },
 "nbformat": 4,
 "nbformat_minor": 5
}
